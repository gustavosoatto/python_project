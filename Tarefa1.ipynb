{
  "cells": [
    {
      "cell_type": "markdown",
      "metadata": {
        "colab_type": "text",
        "id": "view-in-github"
      },
      "source": [
        "<a href=\"https://colab.research.google.com/github/gustavosoatto/python_project/blob/main/Tarefa1.ipynb\" target=\"_parent\"><img src=\"https://colab.research.google.com/assets/colab-badge.svg\" alt=\"Open In Colab\"/></a>"
      ]
    },
    {
      "cell_type": "code",
      "execution_count": null,
      "metadata": {
        "colab": {
          "base_uri": "https://localhost:8080/"
        },
        "id": "OVRm2GL6kL7C",
        "outputId": "b2cd9ac8-fdbe-4e36-f99a-10a7abe2278d"
      },
      "outputs": [
        {
          "ename": "",
          "evalue": "",
          "output_type": "error",
          "traceback": [
            "\u001b[1;31mA execução de células com \"Python 3.10.6 64-bit\" requer o pacote ipykernel.\n",
            "\u001b[1;31mExecute o seguinte comando para instalar \"ipykernel\" no ambiente do Python. \n",
            "\u001b[1;31mComando: \"c:/Users/gusta/AppData/Local/Programs/Python/Python310/python.exe -m pip install ipykernel -U --user --force-reinstall\""
          ]
        }
      ],
      "source": [
        "print(\"Hello World\")"
      ]
    }
  ],
  "metadata": {
    "colab": {
      "authorship_tag": "ABX9TyP0TSjNprDVJ7iNDqEVYdLb",
      "include_colab_link": true,
      "provenance": [],
      "toc_visible": true
    },
    "kernelspec": {
      "display_name": "Python 3.10.6 64-bit",
      "language": "python",
      "name": "python3"
    },
    "language_info": {
      "name": "python",
      "version": "3.10.6"
    },
    "vscode": {
      "interpreter": {
        "hash": "9f8688d2bc69c748babb560adc9158621fb8aef49546882c3e4c6326402dd0cc"
      }
    }
  },
  "nbformat": 4,
  "nbformat_minor": 0
}
